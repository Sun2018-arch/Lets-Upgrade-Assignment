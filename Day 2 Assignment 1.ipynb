{
 "cells": [
  {
   "cell_type": "markdown",
   "metadata": {},
   "source": [
    "# (2x+5/x^2+5x+6)"
   ]
  },
  {
   "cell_type": "code",
   "execution_count": 5,
   "metadata": {},
   "outputs": [
    {
     "data": {
      "text/plain": [
       "0.26785714285714285"
      ]
     },
     "execution_count": 5,
     "metadata": {},
     "output_type": "execute_result"
    }
   ],
   "source": [
    "x=5\n",
    "y=(2*x+5)/(x**2+5*x+6)\n",
    "y"
   ]
  },
  {
   "cell_type": "markdown",
   "metadata": {},
   "source": [
    "# (x^2+5x+6/2x+5)"
   ]
  },
  {
   "cell_type": "code",
   "execution_count": null,
   "metadata": {},
   "outputs": [],
   "source": [
    "y=(x**2+5*x+6)/(2*x+5)\n",
    "y"
   ]
  },
  {
   "cell_type": "markdown",
   "metadata": {},
   "source": [
    "# (2x-3)(x-9)"
   ]
  },
  {
   "cell_type": "code",
   "execution_count": 7,
   "metadata": {},
   "outputs": [
    {
     "data": {
      "text/plain": [
       "98"
      ]
     },
     "execution_count": 7,
     "metadata": {},
     "output_type": "execute_result"
    }
   ],
   "source": [
    "y=(2*x-3)*(x+9)\n",
    "y"
   ]
  },
  {
   "cell_type": "markdown",
   "metadata": {},
   "source": [
    "# Create a username and password login file using nested while loop"
   ]
  },
  {
   "cell_type": "code",
   "execution_count": null,
   "metadata": {},
   "outputs": [
    {
     "name": "stdout",
     "output_type": "stream",
     "text": [
      "Enter your username: USER\n",
      "Invalid Username!\n",
      "Enter your username: CORR_USER\n",
      "Enter your password: pss\n",
      "You have 4 remaining\n"
     ]
    }
   ],
   "source": [
    "correct_user = \"CORR_USER\"\n",
    "correct_pass = \"CORR_PASS\"\n",
    "\n",
    "attempt = 0\n",
    "\n",
    "username = input(\"Enter your username: \")\n",
    "if username == correct_user:\n",
    "    password = input(\"Enter your password: \")\n",
    "    if password == correct_pass:\n",
    "        print(\"Login Sucessful!\")\n",
    "    if password != correct_pass:\n",
    "        while attempt<5:\n",
    "            attempt = attempt+1\n",
    "            print(\"You have\", 5-attempt ,\"remaining\")\n",
    "            password = input(\"Incorrect password, please try again: \")\n",
    "            \n",
    "            if password == correct_pass:\n",
    "                print(\"Login sucessful!\")\n",
    "                break\n",
    "        print(\"ACCOUNT BLOCKED! PLEASE TRY AFTER SOMETIME\") \n",
    "\n",
    "elif username != correct_user:\n",
    "    print(\"Invalid Username!\")\n",
    "    username = input(\"Enter your username: \")\n",
    "    password = input(\"Enter your password: \")\n",
    "\n",
    "    if username == correct_user and password == correct_pass:\n",
    "        print(\"Login Sucessful!\")\n",
    "    elif password != correct_pass:\n",
    "        while attempt<5:\n",
    "            attempt = attempt+1\n",
    "            print(\"You have\", 5-attempt ,\"remaining\")\n",
    "            password = input(\"Incorrect password, please try again: \")\n",
    "            \n",
    "            if password == correct_pass:\n",
    "                print(\"Login sucessful!\")\n",
    "                break\n",
    "        print(\"ACCOUNT BLOCKED! PLEASE TRY AFTER SOMETIME\")"
   ]
  },
  {
   "cell_type": "code",
   "execution_count": null,
   "metadata": {},
   "outputs": [],
   "source": []
  },
  {
   "cell_type": "code",
   "execution_count": null,
   "metadata": {},
   "outputs": [],
   "source": []
  }
 ],
 "metadata": {
  "kernelspec": {
   "display_name": "Python 3",
   "language": "python",
   "name": "python3"
  },
  "language_info": {
   "codemirror_mode": {
    "name": "ipython",
    "version": 3
   },
   "file_extension": ".py",
   "mimetype": "text/x-python",
   "name": "python",
   "nbconvert_exporter": "python",
   "pygments_lexer": "ipython3",
   "version": "3.7.4"
  }
 },
 "nbformat": 4,
 "nbformat_minor": 4
}
